{
 "cells": [
  {
   "cell_type": "markdown",
   "metadata": {},
   "source": [
    "# Exploring the Relationship Between Patient Characteristics and Mortality"
   ]
  },
  {
   "cell_type": "code",
   "execution_count": null,
   "metadata": {},
   "outputs": [],
   "source": []
  },
  {
   "cell_type": "markdown",
   "metadata": {},
   "source": [
    "## Questions"
   ]
  },
  {
   "cell_type": "markdown",
   "metadata": {},
   "source": [
    "\n",
    "\n",
    "\n",
    "\n",
    "### How do factors like anemia, diabetes, high blood pressure, and smoking relate to the occurrence of death events?\n",
    "\n",
    "\n",
    "### Is there a correlation between age and the likelihood of death events?\n",
    "\n",
    "\n",
    "### How does the ejection fraction correlate with the occurrence of death events?\n",
    "\n",
    "\n",
    "### Are platelet count and serum creatinine levels indicative of mortality risk?\n",
    "\n",
    "\n",
    "### Is there a gender-based difference in mortality rates in this dataset?\n",
    "\n",
    "\n",
    "### How does smoking status contribute to mortality risk in this population?\n",
    "\n",
    "### Is there a statistically significant difference in the occurrence of death events between diabetic and non-diabetic individuals in the dataset?\n",
    "\n",
    "### What are the most significant risk factors associated with death events in this dataset?\n",
    "\n",
    "### Can we build a predictive model to estimate the likelihood of death events based on the provided features?\n"
   ]
  },
  {
   "cell_type": "markdown",
   "metadata": {},
   "source": [
    "# Data Import"
   ]
  },
  {
   "cell_type": "code",
   "execution_count": 64,
   "metadata": {},
   "outputs": [
    {
     "data": {
      "text/html": [
       "<div>\n",
       "<style scoped>\n",
       "    .dataframe tbody tr th:only-of-type {\n",
       "        vertical-align: middle;\n",
       "    }\n",
       "\n",
       "    .dataframe tbody tr th {\n",
       "        vertical-align: top;\n",
       "    }\n",
       "\n",
       "    .dataframe thead th {\n",
       "        text-align: right;\n",
       "    }\n",
       "</style>\n",
       "<table border=\"1\" class=\"dataframe\">\n",
       "  <thead>\n",
       "    <tr style=\"text-align: right;\">\n",
       "      <th></th>\n",
       "      <th>age</th>\n",
       "      <th>anaemia</th>\n",
       "      <th>creatinine_phosphokinase</th>\n",
       "      <th>diabetes</th>\n",
       "      <th>ejection_fraction</th>\n",
       "      <th>high_blood_pressure</th>\n",
       "      <th>platelets</th>\n",
       "      <th>serum_creatinine</th>\n",
       "      <th>serum_sodium</th>\n",
       "      <th>sex</th>\n",
       "      <th>smoking</th>\n",
       "      <th>time</th>\n",
       "      <th>DEATH_EVENT</th>\n",
       "    </tr>\n",
       "  </thead>\n",
       "  <tbody>\n",
       "    <tr>\n",
       "      <th>0</th>\n",
       "      <td>75.0</td>\n",
       "      <td>0</td>\n",
       "      <td>582</td>\n",
       "      <td>0</td>\n",
       "      <td>20</td>\n",
       "      <td>1</td>\n",
       "      <td>265000.00</td>\n",
       "      <td>1.9</td>\n",
       "      <td>130</td>\n",
       "      <td>1</td>\n",
       "      <td>0</td>\n",
       "      <td>4</td>\n",
       "      <td>1</td>\n",
       "    </tr>\n",
       "    <tr>\n",
       "      <th>1</th>\n",
       "      <td>55.0</td>\n",
       "      <td>0</td>\n",
       "      <td>7861</td>\n",
       "      <td>0</td>\n",
       "      <td>38</td>\n",
       "      <td>0</td>\n",
       "      <td>263358.03</td>\n",
       "      <td>1.1</td>\n",
       "      <td>136</td>\n",
       "      <td>1</td>\n",
       "      <td>0</td>\n",
       "      <td>6</td>\n",
       "      <td>1</td>\n",
       "    </tr>\n",
       "    <tr>\n",
       "      <th>2</th>\n",
       "      <td>65.0</td>\n",
       "      <td>0</td>\n",
       "      <td>146</td>\n",
       "      <td>0</td>\n",
       "      <td>20</td>\n",
       "      <td>0</td>\n",
       "      <td>162000.00</td>\n",
       "      <td>1.3</td>\n",
       "      <td>129</td>\n",
       "      <td>1</td>\n",
       "      <td>1</td>\n",
       "      <td>7</td>\n",
       "      <td>1</td>\n",
       "    </tr>\n",
       "    <tr>\n",
       "      <th>3</th>\n",
       "      <td>50.0</td>\n",
       "      <td>1</td>\n",
       "      <td>111</td>\n",
       "      <td>0</td>\n",
       "      <td>20</td>\n",
       "      <td>0</td>\n",
       "      <td>210000.00</td>\n",
       "      <td>1.9</td>\n",
       "      <td>137</td>\n",
       "      <td>1</td>\n",
       "      <td>0</td>\n",
       "      <td>7</td>\n",
       "      <td>1</td>\n",
       "    </tr>\n",
       "    <tr>\n",
       "      <th>4</th>\n",
       "      <td>65.0</td>\n",
       "      <td>1</td>\n",
       "      <td>160</td>\n",
       "      <td>1</td>\n",
       "      <td>20</td>\n",
       "      <td>0</td>\n",
       "      <td>327000.00</td>\n",
       "      <td>2.7</td>\n",
       "      <td>116</td>\n",
       "      <td>0</td>\n",
       "      <td>0</td>\n",
       "      <td>8</td>\n",
       "      <td>1</td>\n",
       "    </tr>\n",
       "    <tr>\n",
       "      <th>...</th>\n",
       "      <td>...</td>\n",
       "      <td>...</td>\n",
       "      <td>...</td>\n",
       "      <td>...</td>\n",
       "      <td>...</td>\n",
       "      <td>...</td>\n",
       "      <td>...</td>\n",
       "      <td>...</td>\n",
       "      <td>...</td>\n",
       "      <td>...</td>\n",
       "      <td>...</td>\n",
       "      <td>...</td>\n",
       "      <td>...</td>\n",
       "    </tr>\n",
       "    <tr>\n",
       "      <th>294</th>\n",
       "      <td>62.0</td>\n",
       "      <td>0</td>\n",
       "      <td>61</td>\n",
       "      <td>1</td>\n",
       "      <td>38</td>\n",
       "      <td>1</td>\n",
       "      <td>155000.00</td>\n",
       "      <td>1.1</td>\n",
       "      <td>143</td>\n",
       "      <td>1</td>\n",
       "      <td>1</td>\n",
       "      <td>270</td>\n",
       "      <td>0</td>\n",
       "    </tr>\n",
       "    <tr>\n",
       "      <th>295</th>\n",
       "      <td>55.0</td>\n",
       "      <td>0</td>\n",
       "      <td>1820</td>\n",
       "      <td>0</td>\n",
       "      <td>38</td>\n",
       "      <td>0</td>\n",
       "      <td>270000.00</td>\n",
       "      <td>1.2</td>\n",
       "      <td>139</td>\n",
       "      <td>0</td>\n",
       "      <td>0</td>\n",
       "      <td>271</td>\n",
       "      <td>0</td>\n",
       "    </tr>\n",
       "    <tr>\n",
       "      <th>296</th>\n",
       "      <td>45.0</td>\n",
       "      <td>0</td>\n",
       "      <td>2060</td>\n",
       "      <td>1</td>\n",
       "      <td>60</td>\n",
       "      <td>0</td>\n",
       "      <td>742000.00</td>\n",
       "      <td>0.8</td>\n",
       "      <td>138</td>\n",
       "      <td>0</td>\n",
       "      <td>0</td>\n",
       "      <td>278</td>\n",
       "      <td>0</td>\n",
       "    </tr>\n",
       "    <tr>\n",
       "      <th>297</th>\n",
       "      <td>45.0</td>\n",
       "      <td>0</td>\n",
       "      <td>2413</td>\n",
       "      <td>0</td>\n",
       "      <td>38</td>\n",
       "      <td>0</td>\n",
       "      <td>140000.00</td>\n",
       "      <td>1.4</td>\n",
       "      <td>140</td>\n",
       "      <td>1</td>\n",
       "      <td>1</td>\n",
       "      <td>280</td>\n",
       "      <td>0</td>\n",
       "    </tr>\n",
       "    <tr>\n",
       "      <th>298</th>\n",
       "      <td>50.0</td>\n",
       "      <td>0</td>\n",
       "      <td>196</td>\n",
       "      <td>0</td>\n",
       "      <td>45</td>\n",
       "      <td>0</td>\n",
       "      <td>395000.00</td>\n",
       "      <td>1.6</td>\n",
       "      <td>136</td>\n",
       "      <td>1</td>\n",
       "      <td>1</td>\n",
       "      <td>285</td>\n",
       "      <td>0</td>\n",
       "    </tr>\n",
       "  </tbody>\n",
       "</table>\n",
       "<p>299 rows × 13 columns</p>\n",
       "</div>"
      ],
      "text/plain": [
       "      age  anaemia  creatinine_phosphokinase  diabetes  ejection_fraction  \\\n",
       "0    75.0        0                       582         0                 20   \n",
       "1    55.0        0                      7861         0                 38   \n",
       "2    65.0        0                       146         0                 20   \n",
       "3    50.0        1                       111         0                 20   \n",
       "4    65.0        1                       160         1                 20   \n",
       "..    ...      ...                       ...       ...                ...   \n",
       "294  62.0        0                        61         1                 38   \n",
       "295  55.0        0                      1820         0                 38   \n",
       "296  45.0        0                      2060         1                 60   \n",
       "297  45.0        0                      2413         0                 38   \n",
       "298  50.0        0                       196         0                 45   \n",
       "\n",
       "     high_blood_pressure  platelets  serum_creatinine  serum_sodium  sex  \\\n",
       "0                      1  265000.00               1.9           130    1   \n",
       "1                      0  263358.03               1.1           136    1   \n",
       "2                      0  162000.00               1.3           129    1   \n",
       "3                      0  210000.00               1.9           137    1   \n",
       "4                      0  327000.00               2.7           116    0   \n",
       "..                   ...        ...               ...           ...  ...   \n",
       "294                    1  155000.00               1.1           143    1   \n",
       "295                    0  270000.00               1.2           139    0   \n",
       "296                    0  742000.00               0.8           138    0   \n",
       "297                    0  140000.00               1.4           140    1   \n",
       "298                    0  395000.00               1.6           136    1   \n",
       "\n",
       "     smoking  time  DEATH_EVENT  \n",
       "0          0     4            1  \n",
       "1          0     6            1  \n",
       "2          1     7            1  \n",
       "3          0     7            1  \n",
       "4          0     8            1  \n",
       "..       ...   ...          ...  \n",
       "294        1   270            0  \n",
       "295        0   271            0  \n",
       "296        0   278            0  \n",
       "297        1   280            0  \n",
       "298        1   285            0  \n",
       "\n",
       "[299 rows x 13 columns]"
      ]
     },
     "execution_count": 64,
     "metadata": {},
     "output_type": "execute_result"
    }
   ],
   "source": [
    "import pandas as pd\n",
    "df=pd.read_csv(\"heart_failure_clinical_records_dataset.csv\")\n",
    "df"
   ]
  },
  {
   "cell_type": "markdown",
   "metadata": {},
   "source": [
    "## Basic info"
   ]
  },
  {
   "cell_type": "code",
   "execution_count": 65,
   "metadata": {},
   "outputs": [
    {
     "name": "stdout",
     "output_type": "stream",
     "text": [
      "<class 'pandas.core.frame.DataFrame'>\n",
      "RangeIndex: 299 entries, 0 to 298\n",
      "Data columns (total 13 columns):\n",
      " #   Column                    Non-Null Count  Dtype  \n",
      "---  ------                    --------------  -----  \n",
      " 0   age                       299 non-null    float64\n",
      " 1   anaemia                   299 non-null    int64  \n",
      " 2   creatinine_phosphokinase  299 non-null    int64  \n",
      " 3   diabetes                  299 non-null    int64  \n",
      " 4   ejection_fraction         299 non-null    int64  \n",
      " 5   high_blood_pressure       299 non-null    int64  \n",
      " 6   platelets                 299 non-null    float64\n",
      " 7   serum_creatinine          299 non-null    float64\n",
      " 8   serum_sodium              299 non-null    int64  \n",
      " 9   sex                       299 non-null    int64  \n",
      " 10  smoking                   299 non-null    int64  \n",
      " 11  time                      299 non-null    int64  \n",
      " 12  DEATH_EVENT               299 non-null    int64  \n",
      "dtypes: float64(3), int64(10)\n",
      "memory usage: 30.5 KB\n"
     ]
    }
   ],
   "source": [
    "df.info()"
   ]
  },
  {
   "cell_type": "markdown",
   "metadata": {},
   "source": [
    "\n",
    "1. **age**: Age of the patient (float64).\n",
    "2. **anaemia**: Indicates whether the patient has anemia (int64: 0 for No, 1 for Yes).\n",
    "3. **creatinine_phosphokinase**: Level of creatinine phosphokinase in the blood (int64).\n",
    "4. **diabetes**: Indicates whether the patient has diabetes (int64: 0 for No, 1 for Yes).\n",
    "5. **ejection_fraction**: Ejection fraction of the heart (int64).\n",
    "6. **high_blood_pressure**: Indicates whether the patient has high blood pressure (int64: 0 for No, 1 for Yes).\n",
    "7. **platelets**: Platelet count in the blood (float64).\n",
    "8. **serum_creatinine**: Level of serum creatinine in the blood (float64).\n",
    "9. **serum_sodium**: Level of serum sodium in the blood (int64).\n",
    "10. **sex**: Gender of the patient (int64: 0 for Female, 1 for Male).\n",
    "11. **smoking**: Indicates whether the patient smokes (int64: 0 for No, 1 for Yes).\n",
    "12. **time**: Follow-up period or time of observation (int64).\n",
    "13. **DEATH_EVENT**: Indicates whether the patient experienced a death event (int64: 0 for No, 1 for Yes).\n",
    "\n"
   ]
  },
  {
   "cell_type": "markdown",
   "metadata": {},
   "source": [
    "## Renaming"
   ]
  },
  {
   "cell_type": "code",
   "execution_count": 66,
   "metadata": {},
   "outputs": [
    {
     "data": {
      "text/html": [
       "<div>\n",
       "<style scoped>\n",
       "    .dataframe tbody tr th:only-of-type {\n",
       "        vertical-align: middle;\n",
       "    }\n",
       "\n",
       "    .dataframe tbody tr th {\n",
       "        vertical-align: top;\n",
       "    }\n",
       "\n",
       "    .dataframe thead th {\n",
       "        text-align: right;\n",
       "    }\n",
       "</style>\n",
       "<table border=\"1\" class=\"dataframe\">\n",
       "  <thead>\n",
       "    <tr style=\"text-align: right;\">\n",
       "      <th></th>\n",
       "      <th>age</th>\n",
       "      <th>anaemia</th>\n",
       "      <th>CPK</th>\n",
       "      <th>diabetes</th>\n",
       "      <th>EF</th>\n",
       "      <th>HBP</th>\n",
       "      <th>platelets</th>\n",
       "      <th>SC</th>\n",
       "      <th>SS</th>\n",
       "      <th>sex</th>\n",
       "      <th>smoking</th>\n",
       "      <th>time</th>\n",
       "      <th>DEATH_EVENT</th>\n",
       "    </tr>\n",
       "  </thead>\n",
       "  <tbody>\n",
       "    <tr>\n",
       "      <th>0</th>\n",
       "      <td>75.0</td>\n",
       "      <td>0</td>\n",
       "      <td>582</td>\n",
       "      <td>0</td>\n",
       "      <td>20</td>\n",
       "      <td>1</td>\n",
       "      <td>265000.00</td>\n",
       "      <td>1.9</td>\n",
       "      <td>130</td>\n",
       "      <td>1</td>\n",
       "      <td>0</td>\n",
       "      <td>4</td>\n",
       "      <td>1</td>\n",
       "    </tr>\n",
       "    <tr>\n",
       "      <th>1</th>\n",
       "      <td>55.0</td>\n",
       "      <td>0</td>\n",
       "      <td>7861</td>\n",
       "      <td>0</td>\n",
       "      <td>38</td>\n",
       "      <td>0</td>\n",
       "      <td>263358.03</td>\n",
       "      <td>1.1</td>\n",
       "      <td>136</td>\n",
       "      <td>1</td>\n",
       "      <td>0</td>\n",
       "      <td>6</td>\n",
       "      <td>1</td>\n",
       "    </tr>\n",
       "    <tr>\n",
       "      <th>2</th>\n",
       "      <td>65.0</td>\n",
       "      <td>0</td>\n",
       "      <td>146</td>\n",
       "      <td>0</td>\n",
       "      <td>20</td>\n",
       "      <td>0</td>\n",
       "      <td>162000.00</td>\n",
       "      <td>1.3</td>\n",
       "      <td>129</td>\n",
       "      <td>1</td>\n",
       "      <td>1</td>\n",
       "      <td>7</td>\n",
       "      <td>1</td>\n",
       "    </tr>\n",
       "    <tr>\n",
       "      <th>3</th>\n",
       "      <td>50.0</td>\n",
       "      <td>1</td>\n",
       "      <td>111</td>\n",
       "      <td>0</td>\n",
       "      <td>20</td>\n",
       "      <td>0</td>\n",
       "      <td>210000.00</td>\n",
       "      <td>1.9</td>\n",
       "      <td>137</td>\n",
       "      <td>1</td>\n",
       "      <td>0</td>\n",
       "      <td>7</td>\n",
       "      <td>1</td>\n",
       "    </tr>\n",
       "    <tr>\n",
       "      <th>4</th>\n",
       "      <td>65.0</td>\n",
       "      <td>1</td>\n",
       "      <td>160</td>\n",
       "      <td>1</td>\n",
       "      <td>20</td>\n",
       "      <td>0</td>\n",
       "      <td>327000.00</td>\n",
       "      <td>2.7</td>\n",
       "      <td>116</td>\n",
       "      <td>0</td>\n",
       "      <td>0</td>\n",
       "      <td>8</td>\n",
       "      <td>1</td>\n",
       "    </tr>\n",
       "  </tbody>\n",
       "</table>\n",
       "</div>"
      ],
      "text/plain": [
       "    age  anaemia   CPK  diabetes  EF  HBP  platelets   SC   SS  sex  smoking  \\\n",
       "0  75.0        0   582         0  20    1  265000.00  1.9  130    1        0   \n",
       "1  55.0        0  7861         0  38    0  263358.03  1.1  136    1        0   \n",
       "2  65.0        0   146         0  20    0  162000.00  1.3  129    1        1   \n",
       "3  50.0        1   111         0  20    0  210000.00  1.9  137    1        0   \n",
       "4  65.0        1   160         1  20    0  327000.00  2.7  116    0        0   \n",
       "\n",
       "   time  DEATH_EVENT  \n",
       "0     4            1  \n",
       "1     6            1  \n",
       "2     7            1  \n",
       "3     7            1  \n",
       "4     8            1  "
      ]
     },
     "execution_count": 66,
     "metadata": {},
     "output_type": "execute_result"
    }
   ],
   "source": [
    "short_names = {\n",
    "    \n",
    "    'creatinine_phosphokinase': 'CPK',\n",
    "   \n",
    "    'ejection_fraction': 'EF',\n",
    "    'high_blood_pressure': 'HBP',\n",
    "    \n",
    "    'serum_creatinine': 'SC',\n",
    "    'serum_sodium':\"SS\"\n",
    "    \n",
    "}\n",
    "df = df.rename(columns=short_names)\n",
    "df.head()"
   ]
  },
  {
   "cell_type": "code",
   "execution_count": null,
   "metadata": {},
   "outputs": [],
   "source": []
  },
  {
   "cell_type": "markdown",
   "metadata": {},
   "source": [
    "## Descriptive statistics"
   ]
  },
  {
   "cell_type": "code",
   "execution_count": 67,
   "metadata": {},
   "outputs": [
    {
     "data": {
      "text/html": [
       "<div>\n",
       "<style scoped>\n",
       "    .dataframe tbody tr th:only-of-type {\n",
       "        vertical-align: middle;\n",
       "    }\n",
       "\n",
       "    .dataframe tbody tr th {\n",
       "        vertical-align: top;\n",
       "    }\n",
       "\n",
       "    .dataframe thead th {\n",
       "        text-align: right;\n",
       "    }\n",
       "</style>\n",
       "<table border=\"1\" class=\"dataframe\">\n",
       "  <thead>\n",
       "    <tr style=\"text-align: right;\">\n",
       "      <th></th>\n",
       "      <th>age</th>\n",
       "      <th>anaemia</th>\n",
       "      <th>CPK</th>\n",
       "      <th>diabetes</th>\n",
       "      <th>EF</th>\n",
       "      <th>HBP</th>\n",
       "      <th>platelets</th>\n",
       "      <th>SC</th>\n",
       "      <th>SS</th>\n",
       "      <th>sex</th>\n",
       "      <th>smoking</th>\n",
       "      <th>time</th>\n",
       "      <th>DEATH_EVENT</th>\n",
       "    </tr>\n",
       "  </thead>\n",
       "  <tbody>\n",
       "    <tr>\n",
       "      <th>count</th>\n",
       "      <td>299.000000</td>\n",
       "      <td>299.000000</td>\n",
       "      <td>299.000000</td>\n",
       "      <td>299.000000</td>\n",
       "      <td>299.000000</td>\n",
       "      <td>299.000000</td>\n",
       "      <td>299.000000</td>\n",
       "      <td>299.00000</td>\n",
       "      <td>299.000000</td>\n",
       "      <td>299.000000</td>\n",
       "      <td>299.00000</td>\n",
       "      <td>299.000000</td>\n",
       "      <td>299.00000</td>\n",
       "    </tr>\n",
       "    <tr>\n",
       "      <th>mean</th>\n",
       "      <td>60.833893</td>\n",
       "      <td>0.431438</td>\n",
       "      <td>581.839465</td>\n",
       "      <td>0.418060</td>\n",
       "      <td>38.083612</td>\n",
       "      <td>0.351171</td>\n",
       "      <td>263358.029264</td>\n",
       "      <td>1.39388</td>\n",
       "      <td>136.625418</td>\n",
       "      <td>0.648829</td>\n",
       "      <td>0.32107</td>\n",
       "      <td>130.260870</td>\n",
       "      <td>0.32107</td>\n",
       "    </tr>\n",
       "    <tr>\n",
       "      <th>std</th>\n",
       "      <td>11.894809</td>\n",
       "      <td>0.496107</td>\n",
       "      <td>970.287881</td>\n",
       "      <td>0.494067</td>\n",
       "      <td>11.834841</td>\n",
       "      <td>0.478136</td>\n",
       "      <td>97804.236869</td>\n",
       "      <td>1.03451</td>\n",
       "      <td>4.412477</td>\n",
       "      <td>0.478136</td>\n",
       "      <td>0.46767</td>\n",
       "      <td>77.614208</td>\n",
       "      <td>0.46767</td>\n",
       "    </tr>\n",
       "    <tr>\n",
       "      <th>min</th>\n",
       "      <td>40.000000</td>\n",
       "      <td>0.000000</td>\n",
       "      <td>23.000000</td>\n",
       "      <td>0.000000</td>\n",
       "      <td>14.000000</td>\n",
       "      <td>0.000000</td>\n",
       "      <td>25100.000000</td>\n",
       "      <td>0.50000</td>\n",
       "      <td>113.000000</td>\n",
       "      <td>0.000000</td>\n",
       "      <td>0.00000</td>\n",
       "      <td>4.000000</td>\n",
       "      <td>0.00000</td>\n",
       "    </tr>\n",
       "    <tr>\n",
       "      <th>25%</th>\n",
       "      <td>51.000000</td>\n",
       "      <td>0.000000</td>\n",
       "      <td>116.500000</td>\n",
       "      <td>0.000000</td>\n",
       "      <td>30.000000</td>\n",
       "      <td>0.000000</td>\n",
       "      <td>212500.000000</td>\n",
       "      <td>0.90000</td>\n",
       "      <td>134.000000</td>\n",
       "      <td>0.000000</td>\n",
       "      <td>0.00000</td>\n",
       "      <td>73.000000</td>\n",
       "      <td>0.00000</td>\n",
       "    </tr>\n",
       "    <tr>\n",
       "      <th>50%</th>\n",
       "      <td>60.000000</td>\n",
       "      <td>0.000000</td>\n",
       "      <td>250.000000</td>\n",
       "      <td>0.000000</td>\n",
       "      <td>38.000000</td>\n",
       "      <td>0.000000</td>\n",
       "      <td>262000.000000</td>\n",
       "      <td>1.10000</td>\n",
       "      <td>137.000000</td>\n",
       "      <td>1.000000</td>\n",
       "      <td>0.00000</td>\n",
       "      <td>115.000000</td>\n",
       "      <td>0.00000</td>\n",
       "    </tr>\n",
       "    <tr>\n",
       "      <th>75%</th>\n",
       "      <td>70.000000</td>\n",
       "      <td>1.000000</td>\n",
       "      <td>582.000000</td>\n",
       "      <td>1.000000</td>\n",
       "      <td>45.000000</td>\n",
       "      <td>1.000000</td>\n",
       "      <td>303500.000000</td>\n",
       "      <td>1.40000</td>\n",
       "      <td>140.000000</td>\n",
       "      <td>1.000000</td>\n",
       "      <td>1.00000</td>\n",
       "      <td>203.000000</td>\n",
       "      <td>1.00000</td>\n",
       "    </tr>\n",
       "    <tr>\n",
       "      <th>max</th>\n",
       "      <td>95.000000</td>\n",
       "      <td>1.000000</td>\n",
       "      <td>7861.000000</td>\n",
       "      <td>1.000000</td>\n",
       "      <td>80.000000</td>\n",
       "      <td>1.000000</td>\n",
       "      <td>850000.000000</td>\n",
       "      <td>9.40000</td>\n",
       "      <td>148.000000</td>\n",
       "      <td>1.000000</td>\n",
       "      <td>1.00000</td>\n",
       "      <td>285.000000</td>\n",
       "      <td>1.00000</td>\n",
       "    </tr>\n",
       "  </tbody>\n",
       "</table>\n",
       "</div>"
      ],
      "text/plain": [
       "              age     anaemia          CPK    diabetes          EF  \\\n",
       "count  299.000000  299.000000   299.000000  299.000000  299.000000   \n",
       "mean    60.833893    0.431438   581.839465    0.418060   38.083612   \n",
       "std     11.894809    0.496107   970.287881    0.494067   11.834841   \n",
       "min     40.000000    0.000000    23.000000    0.000000   14.000000   \n",
       "25%     51.000000    0.000000   116.500000    0.000000   30.000000   \n",
       "50%     60.000000    0.000000   250.000000    0.000000   38.000000   \n",
       "75%     70.000000    1.000000   582.000000    1.000000   45.000000   \n",
       "max     95.000000    1.000000  7861.000000    1.000000   80.000000   \n",
       "\n",
       "              HBP      platelets         SC          SS         sex  \\\n",
       "count  299.000000     299.000000  299.00000  299.000000  299.000000   \n",
       "mean     0.351171  263358.029264    1.39388  136.625418    0.648829   \n",
       "std      0.478136   97804.236869    1.03451    4.412477    0.478136   \n",
       "min      0.000000   25100.000000    0.50000  113.000000    0.000000   \n",
       "25%      0.000000  212500.000000    0.90000  134.000000    0.000000   \n",
       "50%      0.000000  262000.000000    1.10000  137.000000    1.000000   \n",
       "75%      1.000000  303500.000000    1.40000  140.000000    1.000000   \n",
       "max      1.000000  850000.000000    9.40000  148.000000    1.000000   \n",
       "\n",
       "         smoking        time  DEATH_EVENT  \n",
       "count  299.00000  299.000000    299.00000  \n",
       "mean     0.32107  130.260870      0.32107  \n",
       "std      0.46767   77.614208      0.46767  \n",
       "min      0.00000    4.000000      0.00000  \n",
       "25%      0.00000   73.000000      0.00000  \n",
       "50%      0.00000  115.000000      0.00000  \n",
       "75%      1.00000  203.000000      1.00000  \n",
       "max      1.00000  285.000000      1.00000  "
      ]
     },
     "execution_count": 67,
     "metadata": {},
     "output_type": "execute_result"
    }
   ],
   "source": [
    "df.describe()"
   ]
  },
  {
   "cell_type": "markdown",
   "metadata": {},
   "source": [
    "\n",
    "- **Count:** The number of non-null values in each column.\n",
    "- **Mean:** The average value of each column.\n",
    "- **Std (Standard Deviation):** A measure of the amount of variation or dispersion in each column.\n",
    "- **Min:** The minimum value in each column.\n",
    "- **25%:** The 25th percentile, also known as the first quartile. It represents the value below which 25% of the data falls.\n",
    "- **50% (Median):** The median or the 50th percentile. It represents the middle value of the dataset.\n",
    "- **75%:** The 75th percentile, also known as the third quartile. It represents the value below which 75% of the data falls.\n",
    "- **Max:** The maximum value in each column.\n",
    "\n",
    "Here's a summary for a few columns:\n",
    "\n",
    "1. **Age:**\n",
    "   - Mean: 60.83\n",
    "   - Standard Deviation: 11.89\n",
    "   - Minimum: 40\n",
    "   - Maximum: 95\n",
    "\n",
    "2. **Ejection Fraction:**\n",
    "   - Mean: 38.08\n",
    "   - Standard Deviation: 11.83\n",
    "   - Minimum: 14\n",
    "   - Maximum: 80\n",
    "\n",
    "3. **Platelets:**\n",
    "   - Mean: 263358.03\n",
    "   - Standard Deviation: 97804.24\n",
    "   - Minimum: 25100\n",
    "   - Maximum: 850000\n",
    "\n",
    "4. **Serum Creatinine:**\n",
    "   - Mean: 1.39\n",
    "   - Standard Deviation: 1.03\n",
    "   - Minimum: 0.5\n",
    "   - Maximum: 9.4\n",
    "\n",
    "5. **Time:**\n",
    "   - Mean: 130.26\n",
    "   - Standard Deviation: 77.61\n",
    "   - Minimum: 4\n",
    "   - Maximum: 285\n",
    "\n"
   ]
  },
  {
   "cell_type": "markdown",
   "metadata": {},
   "source": [
    "# *skewness_values*\n"
   ]
  },
  {
   "cell_type": "code",
   "execution_count": 68,
   "metadata": {},
   "outputs": [
    {
     "name": "stdout",
     "output_type": "stream",
     "text": [
      "Skewness:\n",
      "age            0.423062\n",
      "anaemia        0.278261\n",
      "CPK            4.463110\n",
      "diabetes       0.333929\n",
      "EF             0.555383\n",
      "HBP            0.626732\n",
      "platelets      1.462321\n",
      "SC             4.455996\n",
      "SS            -1.048136\n",
      "sex           -0.626732\n",
      "smoking        0.770349\n",
      "time           0.127803\n",
      "DEATH_EVENT    0.770349\n",
      "dtype: float64\n"
     ]
    }
   ],
   "source": [
    "\n",
    "skewness_values = df.skew()\n",
    "\n",
    "print(\"Skewness:\")\n",
    "print(skewness_values)\n"
   ]
  },
  {
   "cell_type": "markdown",
   "metadata": {},
   "source": [
    "\n",
    "- **age:** 0.423062 (Slightly positively skewed)\n",
    "- **anaemia:** 0.278261 (Slightly positively skewed)\n",
    "- **creatinine_phosphokinase:** 4.463110 (Highly positively skewed)\n",
    "- **diabetes:** 0.333929 (Slightly positively skewed)\n",
    "- **ejection_fraction:** 0.555383 (Moderately positively skewed)\n",
    "- **high_blood_pressure:** 0.626732 (Moderately positively skewed)\n",
    "- **platelets:** 1.462321 (Moderately positively skewed)\n",
    "- **serum_creatinine:** 4.455996 (Highly positively skewed)\n",
    "- **serum_sodium:** -1.048136 (Slightly negatively skewed)\n",
    "- **sex:** -0.626732 (Slightly negatively skewed)\n",
    "- **smoking:** 0.770349 (Moderately positively skewed)\n",
    "- **time:** 0.127803 (Slightly positively skewed)\n",
    "- **DEATH_EVENT:** 0.770349 (Moderately positively skewed)\n",
    "\n",
    "Interpretation:\n",
    "- Positive skewness indicates a tail on the right side of the distribution (right-skewed).\n",
    "- Negative skewness indicates a tail on the left side of the distribution (left-skewed).\n",
    "\n",
    "Variables like `creatinine_phosphokinase` and `serum_creatinine` have high positive skewness, suggesting a distribution with a long tail to the right. On the other hand, `serum_sodium` and `sex` have negative skewness, indicating a distribution with a long tail to the left. The skewness values for most variables are relatively small, suggesting mild skewness.\n"
   ]
  },
  {
   "cell_type": "code",
   "execution_count": null,
   "metadata": {},
   "outputs": [],
   "source": []
  },
  {
   "cell_type": "markdown",
   "metadata": {},
   "source": [
    "## correlation_matrix"
   ]
  },
  {
   "cell_type": "code",
   "execution_count": 69,
   "metadata": {},
   "outputs": [],
   "source": [
    "correlation_matrix = df.corr()"
   ]
  },
  {
   "cell_type": "code",
   "execution_count": 70,
   "metadata": {},
   "outputs": [
    {
     "data": {
      "text/html": [
       "<div>\n",
       "<style scoped>\n",
       "    .dataframe tbody tr th:only-of-type {\n",
       "        vertical-align: middle;\n",
       "    }\n",
       "\n",
       "    .dataframe tbody tr th {\n",
       "        vertical-align: top;\n",
       "    }\n",
       "\n",
       "    .dataframe thead th {\n",
       "        text-align: right;\n",
       "    }\n",
       "</style>\n",
       "<table border=\"1\" class=\"dataframe\">\n",
       "  <thead>\n",
       "    <tr style=\"text-align: right;\">\n",
       "      <th></th>\n",
       "      <th>age</th>\n",
       "      <th>anaemia</th>\n",
       "      <th>CPK</th>\n",
       "      <th>diabetes</th>\n",
       "      <th>EF</th>\n",
       "      <th>HBP</th>\n",
       "      <th>platelets</th>\n",
       "      <th>SC</th>\n",
       "      <th>SS</th>\n",
       "      <th>sex</th>\n",
       "      <th>smoking</th>\n",
       "      <th>time</th>\n",
       "      <th>DEATH_EVENT</th>\n",
       "    </tr>\n",
       "  </thead>\n",
       "  <tbody>\n",
       "    <tr>\n",
       "      <th>age</th>\n",
       "      <td>1.000000</td>\n",
       "      <td>0.088006</td>\n",
       "      <td>-0.081584</td>\n",
       "      <td>-0.101012</td>\n",
       "      <td>0.060098</td>\n",
       "      <td>0.093289</td>\n",
       "      <td>-0.052354</td>\n",
       "      <td>0.159187</td>\n",
       "      <td>-0.045966</td>\n",
       "      <td>0.065430</td>\n",
       "      <td>0.018668</td>\n",
       "      <td>-0.224068</td>\n",
       "      <td>0.253729</td>\n",
       "    </tr>\n",
       "    <tr>\n",
       "      <th>anaemia</th>\n",
       "      <td>0.088006</td>\n",
       "      <td>1.000000</td>\n",
       "      <td>-0.190741</td>\n",
       "      <td>-0.012729</td>\n",
       "      <td>0.031557</td>\n",
       "      <td>0.038182</td>\n",
       "      <td>-0.043786</td>\n",
       "      <td>0.052174</td>\n",
       "      <td>0.041882</td>\n",
       "      <td>-0.094769</td>\n",
       "      <td>-0.107290</td>\n",
       "      <td>-0.141414</td>\n",
       "      <td>0.066270</td>\n",
       "    </tr>\n",
       "    <tr>\n",
       "      <th>CPK</th>\n",
       "      <td>-0.081584</td>\n",
       "      <td>-0.190741</td>\n",
       "      <td>1.000000</td>\n",
       "      <td>-0.009639</td>\n",
       "      <td>-0.044080</td>\n",
       "      <td>-0.070590</td>\n",
       "      <td>0.024463</td>\n",
       "      <td>-0.016408</td>\n",
       "      <td>0.059550</td>\n",
       "      <td>0.079791</td>\n",
       "      <td>0.002421</td>\n",
       "      <td>-0.009346</td>\n",
       "      <td>0.062728</td>\n",
       "    </tr>\n",
       "    <tr>\n",
       "      <th>diabetes</th>\n",
       "      <td>-0.101012</td>\n",
       "      <td>-0.012729</td>\n",
       "      <td>-0.009639</td>\n",
       "      <td>1.000000</td>\n",
       "      <td>-0.004850</td>\n",
       "      <td>-0.012732</td>\n",
       "      <td>0.092193</td>\n",
       "      <td>-0.046975</td>\n",
       "      <td>-0.089551</td>\n",
       "      <td>-0.157730</td>\n",
       "      <td>-0.147173</td>\n",
       "      <td>0.033726</td>\n",
       "      <td>-0.001943</td>\n",
       "    </tr>\n",
       "    <tr>\n",
       "      <th>EF</th>\n",
       "      <td>0.060098</td>\n",
       "      <td>0.031557</td>\n",
       "      <td>-0.044080</td>\n",
       "      <td>-0.004850</td>\n",
       "      <td>1.000000</td>\n",
       "      <td>0.024445</td>\n",
       "      <td>0.072177</td>\n",
       "      <td>-0.011302</td>\n",
       "      <td>0.175902</td>\n",
       "      <td>-0.148386</td>\n",
       "      <td>-0.067315</td>\n",
       "      <td>0.041729</td>\n",
       "      <td>-0.268603</td>\n",
       "    </tr>\n",
       "    <tr>\n",
       "      <th>HBP</th>\n",
       "      <td>0.093289</td>\n",
       "      <td>0.038182</td>\n",
       "      <td>-0.070590</td>\n",
       "      <td>-0.012732</td>\n",
       "      <td>0.024445</td>\n",
       "      <td>1.000000</td>\n",
       "      <td>0.049963</td>\n",
       "      <td>-0.004935</td>\n",
       "      <td>0.037109</td>\n",
       "      <td>-0.104615</td>\n",
       "      <td>-0.055711</td>\n",
       "      <td>-0.196439</td>\n",
       "      <td>0.079351</td>\n",
       "    </tr>\n",
       "    <tr>\n",
       "      <th>platelets</th>\n",
       "      <td>-0.052354</td>\n",
       "      <td>-0.043786</td>\n",
       "      <td>0.024463</td>\n",
       "      <td>0.092193</td>\n",
       "      <td>0.072177</td>\n",
       "      <td>0.049963</td>\n",
       "      <td>1.000000</td>\n",
       "      <td>-0.041198</td>\n",
       "      <td>0.062125</td>\n",
       "      <td>-0.125120</td>\n",
       "      <td>0.028234</td>\n",
       "      <td>0.010514</td>\n",
       "      <td>-0.049139</td>\n",
       "    </tr>\n",
       "    <tr>\n",
       "      <th>SC</th>\n",
       "      <td>0.159187</td>\n",
       "      <td>0.052174</td>\n",
       "      <td>-0.016408</td>\n",
       "      <td>-0.046975</td>\n",
       "      <td>-0.011302</td>\n",
       "      <td>-0.004935</td>\n",
       "      <td>-0.041198</td>\n",
       "      <td>1.000000</td>\n",
       "      <td>-0.189095</td>\n",
       "      <td>0.006970</td>\n",
       "      <td>-0.027414</td>\n",
       "      <td>-0.149315</td>\n",
       "      <td>0.294278</td>\n",
       "    </tr>\n",
       "    <tr>\n",
       "      <th>SS</th>\n",
       "      <td>-0.045966</td>\n",
       "      <td>0.041882</td>\n",
       "      <td>0.059550</td>\n",
       "      <td>-0.089551</td>\n",
       "      <td>0.175902</td>\n",
       "      <td>0.037109</td>\n",
       "      <td>0.062125</td>\n",
       "      <td>-0.189095</td>\n",
       "      <td>1.000000</td>\n",
       "      <td>-0.027566</td>\n",
       "      <td>0.004813</td>\n",
       "      <td>0.087640</td>\n",
       "      <td>-0.195204</td>\n",
       "    </tr>\n",
       "    <tr>\n",
       "      <th>sex</th>\n",
       "      <td>0.065430</td>\n",
       "      <td>-0.094769</td>\n",
       "      <td>0.079791</td>\n",
       "      <td>-0.157730</td>\n",
       "      <td>-0.148386</td>\n",
       "      <td>-0.104615</td>\n",
       "      <td>-0.125120</td>\n",
       "      <td>0.006970</td>\n",
       "      <td>-0.027566</td>\n",
       "      <td>1.000000</td>\n",
       "      <td>0.445892</td>\n",
       "      <td>-0.015608</td>\n",
       "      <td>-0.004316</td>\n",
       "    </tr>\n",
       "    <tr>\n",
       "      <th>smoking</th>\n",
       "      <td>0.018668</td>\n",
       "      <td>-0.107290</td>\n",
       "      <td>0.002421</td>\n",
       "      <td>-0.147173</td>\n",
       "      <td>-0.067315</td>\n",
       "      <td>-0.055711</td>\n",
       "      <td>0.028234</td>\n",
       "      <td>-0.027414</td>\n",
       "      <td>0.004813</td>\n",
       "      <td>0.445892</td>\n",
       "      <td>1.000000</td>\n",
       "      <td>-0.022839</td>\n",
       "      <td>-0.012623</td>\n",
       "    </tr>\n",
       "    <tr>\n",
       "      <th>time</th>\n",
       "      <td>-0.224068</td>\n",
       "      <td>-0.141414</td>\n",
       "      <td>-0.009346</td>\n",
       "      <td>0.033726</td>\n",
       "      <td>0.041729</td>\n",
       "      <td>-0.196439</td>\n",
       "      <td>0.010514</td>\n",
       "      <td>-0.149315</td>\n",
       "      <td>0.087640</td>\n",
       "      <td>-0.015608</td>\n",
       "      <td>-0.022839</td>\n",
       "      <td>1.000000</td>\n",
       "      <td>-0.526964</td>\n",
       "    </tr>\n",
       "    <tr>\n",
       "      <th>DEATH_EVENT</th>\n",
       "      <td>0.253729</td>\n",
       "      <td>0.066270</td>\n",
       "      <td>0.062728</td>\n",
       "      <td>-0.001943</td>\n",
       "      <td>-0.268603</td>\n",
       "      <td>0.079351</td>\n",
       "      <td>-0.049139</td>\n",
       "      <td>0.294278</td>\n",
       "      <td>-0.195204</td>\n",
       "      <td>-0.004316</td>\n",
       "      <td>-0.012623</td>\n",
       "      <td>-0.526964</td>\n",
       "      <td>1.000000</td>\n",
       "    </tr>\n",
       "  </tbody>\n",
       "</table>\n",
       "</div>"
      ],
      "text/plain": [
       "                  age   anaemia       CPK  diabetes        EF       HBP  \\\n",
       "age          1.000000  0.088006 -0.081584 -0.101012  0.060098  0.093289   \n",
       "anaemia      0.088006  1.000000 -0.190741 -0.012729  0.031557  0.038182   \n",
       "CPK         -0.081584 -0.190741  1.000000 -0.009639 -0.044080 -0.070590   \n",
       "diabetes    -0.101012 -0.012729 -0.009639  1.000000 -0.004850 -0.012732   \n",
       "EF           0.060098  0.031557 -0.044080 -0.004850  1.000000  0.024445   \n",
       "HBP          0.093289  0.038182 -0.070590 -0.012732  0.024445  1.000000   \n",
       "platelets   -0.052354 -0.043786  0.024463  0.092193  0.072177  0.049963   \n",
       "SC           0.159187  0.052174 -0.016408 -0.046975 -0.011302 -0.004935   \n",
       "SS          -0.045966  0.041882  0.059550 -0.089551  0.175902  0.037109   \n",
       "sex          0.065430 -0.094769  0.079791 -0.157730 -0.148386 -0.104615   \n",
       "smoking      0.018668 -0.107290  0.002421 -0.147173 -0.067315 -0.055711   \n",
       "time        -0.224068 -0.141414 -0.009346  0.033726  0.041729 -0.196439   \n",
       "DEATH_EVENT  0.253729  0.066270  0.062728 -0.001943 -0.268603  0.079351   \n",
       "\n",
       "             platelets        SC        SS       sex   smoking      time  \\\n",
       "age          -0.052354  0.159187 -0.045966  0.065430  0.018668 -0.224068   \n",
       "anaemia      -0.043786  0.052174  0.041882 -0.094769 -0.107290 -0.141414   \n",
       "CPK           0.024463 -0.016408  0.059550  0.079791  0.002421 -0.009346   \n",
       "diabetes      0.092193 -0.046975 -0.089551 -0.157730 -0.147173  0.033726   \n",
       "EF            0.072177 -0.011302  0.175902 -0.148386 -0.067315  0.041729   \n",
       "HBP           0.049963 -0.004935  0.037109 -0.104615 -0.055711 -0.196439   \n",
       "platelets     1.000000 -0.041198  0.062125 -0.125120  0.028234  0.010514   \n",
       "SC           -0.041198  1.000000 -0.189095  0.006970 -0.027414 -0.149315   \n",
       "SS            0.062125 -0.189095  1.000000 -0.027566  0.004813  0.087640   \n",
       "sex          -0.125120  0.006970 -0.027566  1.000000  0.445892 -0.015608   \n",
       "smoking       0.028234 -0.027414  0.004813  0.445892  1.000000 -0.022839   \n",
       "time          0.010514 -0.149315  0.087640 -0.015608 -0.022839  1.000000   \n",
       "DEATH_EVENT  -0.049139  0.294278 -0.195204 -0.004316 -0.012623 -0.526964   \n",
       "\n",
       "             DEATH_EVENT  \n",
       "age             0.253729  \n",
       "anaemia         0.066270  \n",
       "CPK             0.062728  \n",
       "diabetes       -0.001943  \n",
       "EF             -0.268603  \n",
       "HBP             0.079351  \n",
       "platelets      -0.049139  \n",
       "SC              0.294278  \n",
       "SS             -0.195204  \n",
       "sex            -0.004316  \n",
       "smoking        -0.012623  \n",
       "time           -0.526964  \n",
       "DEATH_EVENT     1.000000  "
      ]
     },
     "execution_count": 70,
     "metadata": {},
     "output_type": "execute_result"
    }
   ],
   "source": [
    "correlation_matrix"
   ]
  },
  {
   "cell_type": "code",
   "execution_count": 71,
   "metadata": {},
   "outputs": [
    {
     "data": {
      "image/png": "[encoded data removed]",
      "text/plain": [
       "<Figure size 1800x1200 with 2 Axes>"
      ]
     },
     "metadata": {},
     "output_type": "display_data"
    }
   ],
   "source": [
    "import seaborn as sns\n",
    "import matplotlib.pyplot as plt\n",
    "\n",
    "plt.figure(figsize=(18, 12))\n",
    "\n",
    "cmap = sns.diverging_palette(220, 20, as_cmap=True)\n",
    "\n",
    "sns.heatmap(correlation_matrix, annot=True, cmap=cmap, fmt=\".2f\", linewidths=0.5, square=True, cbar_kws={\"shrink\": 0.8})\n",
    "\n",
    "plt.title('Correlation Matrix Plot')\n",
    "\n",
    "plt.xticks(rotation=45, ha='right')\n",
    "\n",
    "plt.show()\n"
   ]
  },
  {
   "cell_type": "markdown",
   "metadata": {},
   "source": [
    "\n",
    "\n",
    "1. **Age (0.25):**\n",
    "   - There is a moderate positive correlation between age and the likelihood of death. Older individuals may have a higher risk of experiencing a death event.\n",
    "\n",
    "2. **Anaemia (0.07):**\n",
    "   - There is a weak positive correlation between anaemia and the likelihood of death. The correlation is not very strong.\n",
    "\n",
    "3. **Creatinine Phosphokinase (CPK) (0.06):**\n",
    "   - There is a weak positive correlation between CPK levels and the likelihood of death. The correlation is not very strong.\n",
    "\n",
    "4. **Diabetes (-0.00):**\n",
    "   - There is a very weak negative correlation between diabetes and the likelihood of death. The correlation is close to zero.\n",
    "\n",
    "5. **Ejection Fraction (EF) (-0.27):**\n",
    "   - There is a moderate negative correlation between ejection fraction and the likelihood of death. A lower ejection fraction is associated with a higher risk of death.\n",
    "\n",
    "6. **High Blood Pressure (HBP) (0.08):**\n",
    "   - There is a weak positive correlation between high blood pressure and the likelihood of death. The correlation is not very strong.\n",
    "\n",
    "7. **Platelets (-0.05):**\n",
    "   - There is a weak negative correlation between platelet count and the likelihood of death. The correlation is not very strong.\n",
    "\n",
    "8. **Serum Creatinine (SC) (0.29):**\n",
    "   - There is a moderate positive correlation between serum creatinine levels and the likelihood of death. Higher creatinine levels are associated with a higher risk of death.\n",
    "\n",
    "9. **Serum Sodium (SS) (-0.20):**\n",
    "   - There is a moderate negative correlation between serum sodium levels and the likelihood of death. Lower sodium levels are associated with a higher risk of death.\n",
    "\n",
    "10. **Sex (-0.00):**\n",
    "    - There is a very weak negative correlation between sex and the likelihood of death. The correlation is close to zero.\n",
    "\n",
    "11. **Smoking (-0.01):**\n",
    "    - There is a very weak negative correlation between smoking and the likelihood of death. The correlation is close to zero.\n",
    "\n",
    "12. **Time (-0.53):**\n",
    "    - There is a moderate negative correlation between the follow-up period (time) and the likelihood of death. A longer follow-up period is associated with a lower risk of death.\n"
   ]
  },
  {
   "cell_type": "markdown",
   "metadata": {},
   "source": [
    "## Pairplot"
   ]
  },
  {
   "cell_type": "code",
   "execution_count": 72,
   "metadata": {},
   "outputs": [],
   "source": [
    "sns.pairplot(df, diag_kind='kde', hue='DEATH_EVENT')\n",
    "plt.show()"
   ]
  },
  {
   "cell_type": "code",
   "execution_count": null,
   "metadata": {},
   "outputs": [],
   "source": []
  },
  {
   "cell_type": "markdown",
   "metadata": {},
   "source": [
    "### How do factors like anemia, diabetes, high blood pressure, and smoking relate to the occurrence of death events?"
   ]
  },
  {
   "cell_type": "code",
   "execution_count": 73,
   "metadata": {},
   "outputs": [
    {
     "name": "stdout",
     "output_type": "stream",
     "text": [
      "Anaemia vs. Death Event:\n",
      "Chi-squared: 1.042175485287005\n",
      "P-value: 0.3073160508415107\n",
      "\n",
      "\n",
      "Diabetes vs. Death Event:\n",
      "Chi-squared: 0.0\n",
      "P-value: 1.0\n",
      "\n",
      "\n",
      "Hbp vs. Death Event:\n",
      "Chi-squared: 1.5434607612967581\n",
      "P-value: 0.21410341199416902\n",
      "\n",
      "\n",
      "Smoking vs. Death Event:\n",
      "Chi-squared: 0.007331473567119502\n",
      "P-value: 0.9317652998235507\n",
      "\n",
      "\n"
     ]
    }
   ],
   "source": [
    "from scipy.stats import chi2_contingency\n",
    "\n",
    "selected_columns = ['anaemia', 'diabetes', 'HBP', 'smoking', 'DEATH_EVENT']\n",
    "selected_data = df[selected_columns]\n",
    "\n",
    "contingency_tables = {}\n",
    "for factor in ['anaemia', 'diabetes', 'HBP', 'smoking']:\n",
    "    contingency_table = pd.crosstab(selected_data[factor], selected_data['DEATH_EVENT'])\n",
    "    contingency_tables[factor] = contingency_table\n",
    "\n",
    "# Perform chi-squared tests for independence\n",
    "chi2_results = {}\n",
    "for factor, table in contingency_tables.items():\n",
    "    chi2, p, _, _ = chi2_contingency(table)\n",
    "    chi2_results[factor] = {'chi2': chi2, 'p-value': p}\n",
    "for factor, result in chi2_results.items():\n",
    "    print(f\"{factor.capitalize()} vs. Death Event:\")\n",
    "    print(f\"Chi-squared: {result['chi2']}\")\n",
    "    print(f\"P-value: {result['p-value']}\")\n",
    "    print(\"\\n\")\n"
   ]
  },
  {
   "cell_type": "code",
   "execution_count": 74,
   "metadata": {},
   "outputs": [
    {
     "data": {
      "image/png": "[encoded data removed]",
      "text/plain": [
       "<Figure size 1200x1000 with 4 Axes>"
      ]
     },
     "metadata": {},
     "output_type": "display_data"
    }
   ],
   "source": [
    "fig, axes = plt.subplots(nrows=2, ncols=2, figsize=(12, 10))\n",
    "fig.suptitle('Factors vs. Death Events', fontsize=16)\n",
    "\n",
    "for i, factor in enumerate(['anaemia', 'diabetes', 'HBP', 'smoking']):\n",
    "    sns.countplot(x=factor, hue='DEATH_EVENT', data=selected_data, ax=axes[i // 2, i % 2])\n",
    "    axes[i // 2, i % 2].set_title(f'{factor.capitalize()} vs. Death Event')\n",
    "    axes[i // 2, i % 2].set_xlabel(factor.capitalize())\n",
    "    axes[i // 2, i % 2].set_ylabel('Count')\n",
    "\n",
    "plt.tight_layout(rect=[0, 0.03, 1, 0.95])\n",
    "plt.show()"
   ]
  },
  {
   "cell_type": "markdown",
   "metadata": {},
   "source": [
    "\n",
    "1. **Anaemia vs. Death Event:**\n",
    "   - Chi-squared: 1.04\n",
    "   - P-value: 0.31\n",
    "   - Interpretation: The p-value is greater than the significance level (0.05), so there is not enough evidence to reject the null hypothesis. It suggests that there may not be a significant association between anaemia and death events in this dataset.\n",
    "\n",
    "2. **Diabetes vs. Death Event:**\n",
    "   - Chi-squared: 0.0\n",
    "   - P-value: 1.0\n",
    "   - Interpretation: The p-value is 1.0, indicating no evidence against the null hypothesis. There seems to be no significant association between diabetes and death events.\n",
    "\n",
    "3. **High Blood Pressure (HBP) vs. Death Event:**\n",
    "   - Chi-squared: 1.54\n",
    "   - P-value: 0.21\n",
    "   - Interpretation: The p-value is greater than 0.05, suggesting that there may not be a significant association between high blood pressure and death events.\n",
    "\n",
    "4. **Smoking vs. Death Event:**\n",
    "   - Chi-squared: 0.007\n",
    "   - P-value: 0.93\n",
    "   - Interpretation: The p-value is high, and there is no significant evidence against the null hypothesis. It suggests that smoking may not be significantly associated with death events in this dataset.\n",
    "\n"
   ]
  },
  {
   "cell_type": "code",
   "execution_count": null,
   "metadata": {},
   "outputs": [],
   "source": []
  },
  {
   "cell_type": "markdown",
   "metadata": {},
   "source": [
    "### Is there a correlation between age and the likelihood of death events?"
   ]
  },
  {
   "cell_type": "code",
   "execution_count": 75,
   "metadata": {},
   "outputs": [
    {
     "name": "stdout",
     "output_type": "stream",
     "text": [
      "correlation between Age and Death_event is: 0.2537285430880036\n"
     ]
    }
   ],
   "source": [
    "age_corr=df[\"age\"].corr(df[\"DEATH_EVENT\"])\n",
    "print(\"correlation between Age and Death_event is:\",age_corr)"
   ]
  },
  {
   "cell_type": "code",
   "execution_count": 76,
   "metadata": {},
   "outputs": [
    {
     "name": "stderr",
     "output_type": "stream",
     "text": [
      "/tmp/ipykernel_3165/3622808087.py:2: FutureWarning: \n",
      "\n",
      "Passing `palette` without assigning `hue` is deprecated and will be removed in v0.14.0. Assign the `x` variable to `hue` and set `legend=False` for the same effect.\n",
      "\n",
      "  sns.boxplot(x=\"DEATH_EVENT\", y=\"age\", data=df, palette=\"Set1\")\n"
     ]
    },
    {
     "data": {
      "image/png": "[encoded data removed]",
      "text/plain": [
       "<Figure size 1000x600 with 1 Axes>"
      ]
     },
     "metadata": {},
     "output_type": "display_data"
    }
   ],
   "source": [
    "plt.figure(figsize=(10, 6))\n",
    "sns.boxplot(x=\"DEATH_EVENT\", y=\"age\", data=df, palette=\"Set1\")\n",
    "plt.title(\"Age vs. Death Event\")\n",
    "plt.xlabel(\"Death Event (0: No, 1: Yes)\")\n",
    "plt.ylabel(\"Age\")\n",
    "plt.show()"
   ]
  },
  {
   "cell_type": "markdown",
   "metadata": {},
   "source": [
    "### The correlation coefficient between Age and Death Event is approximately 0.254. This positive correlation indicates a weak to moderate positive relationship between age and the occurrence of death events in the dataset. In other words, as age increases, there is a tendency for the likelihood of death events to also increase, though the correlation is not extremely strong."
   ]
  },
  {
   "cell_type": "code",
   "execution_count": 77,
   "metadata": {},
   "outputs": [
    {
     "data": {
      "text/plain": [
       "array([20, 38, 40, 15, 60, 65, 35, 25, 30, 50, 14, 55, 45, 62, 80, 17, 70])"
      ]
     },
     "execution_count": 77,
     "metadata": {},
     "output_type": "execute_result"
    }
   ],
   "source": [
    "df[\"EF\"].unique()"
   ]
  },
  {
   "cell_type": "markdown",
   "metadata": {},
   "source": [
    "### How does the ejection fraction correlate with the occurrence of death events?"
   ]
  },
  {
   "cell_type": "code",
   "execution_count": 78,
   "metadata": {},
   "outputs": [
    {
     "name": "stdout",
     "output_type": "stream",
     "text": [
      "correlation between EF and Death_event is: -0.2686033123940617\n"
     ]
    }
   ],
   "source": [
    "age_corr=df[\"EF\"].corr(df[\"DEATH_EVENT\"])\n",
    "print(\"correlation between EF and Death_event is:\",age_corr)"
   ]
  },
  {
   "cell_type": "code",
   "execution_count": 79,
   "metadata": {},
   "outputs": [
    {
     "name": "stderr",
     "output_type": "stream",
     "text": [
      "/tmp/ipykernel_3165/501985141.py:3: FutureWarning: \n",
      "\n",
      "Passing `palette` without assigning `hue` is deprecated and will be removed in v0.14.0. Assign the `x` variable to `hue` and set `legend=False` for the same effect.\n",
      "\n",
      "  sns.boxplot(x=\"DEATH_EVENT\", y=\"EF\", data=df, palette=\"Set2\")\n"
     ]
    },
    {
     "data": {
      "image/png": "[encoded data removed]",
      "text/plain": [
       "<Figure size 1000x600 with 1 Axes>"
      ]
     },
     "metadata": {},
     "output_type": "display_data"
    }
   ],
   "source": [
    "# Plot EF vs. Death Event\n",
    "plt.figure(figsize=(10, 6))\n",
    "sns.boxplot(x=\"DEATH_EVENT\", y=\"EF\", data=df, palette=\"Set2\")\n",
    "plt.title(\"EF vs. Death Event\")\n",
    "plt.xlabel(\"Death Event (0: No, 1: Yes)\")\n",
    "plt.ylabel(\"Ejection Fraction (EF)\")\n",
    "plt.show()"
   ]
  },
  {
   "cell_type": "markdown",
   "metadata": {},
   "source": [
    "### The correlation coefficient between Ejection Fraction (EF) and Death Event is approximately -0.269. The negative sign indicates a negative correlation, which means that as one variable (EF) increases, the other variable (Death Event) tends to decrease. In simpler terms, it suggests that a lower ejection fraction may be associated with a higher likelihood of a death event. However, correlation does not imply causation, and other factors may also contribute to the relationship observed."
   ]
  },
  {
   "cell_type": "code",
   "execution_count": null,
   "metadata": {},
   "outputs": [],
   "source": []
  },
  {
   "cell_type": "markdown",
   "metadata": {},
   "source": [
    "### Are platelet count and serum creatinine levels indicative of mortality risk?\n"
   ]
  },
  {
   "cell_type": "code",
   "execution_count": 80,
   "metadata": {},
   "outputs": [
    {
     "name": "stdout",
     "output_type": "stream",
     "text": [
      "Correlation between Platelets and Death Event: -0.04913886798037423\n",
      "Correlation between Serum Creatinine and Death Event: 0.29427756098414937\n"
     ]
    }
   ],
   "source": [
    "platelets_corr = df['platelets'].corr(df['DEATH_EVENT'])\n",
    "creatinine_corr = df['SC'].corr(df['DEATH_EVENT'])\n",
    "\n",
    "print(f'Correlation between Platelets and Death Event: {platelets_corr}')\n",
    "print(f'Correlation between Serum Creatinine and Death Event: {creatinine_corr}')\n"
   ]
  },
  {
   "cell_type": "code",
   "execution_count": 81,
   "metadata": {},
   "outputs": [
    {
     "data": {
      "image/png": "[encoded data removed]",
      "text/plain": [
       "<Figure size 1000x800 with 2 Axes>"
      ]
     },
     "metadata": {},
     "output_type": "display_data"
    }
   ],
   "source": [
    "columns = ['platelets', 'SC', 'DEATH_EVENT']\n",
    "data = df[columns]\n",
    "correlation_matrix = data.corr()\n",
    "\n",
    "# Heatmap\n",
    "plt.figure(figsize=(10, 8))\n",
    "sns.heatmap(correlation_matrix, annot=True, cmap='coolwarm', linewidths=.5)\n",
    "plt.title('Correlation Matrix: Platelets, Serum Creatinine, and Death Event')\n",
    "plt.show()"
   ]
  },
  {
   "cell_type": "markdown",
   "metadata": {},
   "source": [
    "\n",
    "- Correlation between Platelets and Death Event: approximately -0.0491\n",
    "  - Interpretation: There is a weak negative correlation between platelet count and the occurrence of death events. However, the correlation is close to zero, suggesting a limited linear relationship.\n",
    "\n",
    "- Correlation between Serum Creatinine and Death Event: approximately 0.2943\n",
    "  - Interpretation: There is a moderate positive correlation between serum creatinine levels and the occurrence of death events. A positive correlation indicates that higher serum creatinine levels are associated with a higher likelihood of death events.\n"
   ]
  },
  {
   "cell_type": "code",
   "execution_count": null,
   "metadata": {},
   "outputs": [],
   "source": []
  },
  {
   "cell_type": "markdown",
   "metadata": {},
   "source": [
    "### Is there a gender-based difference in mortality rates in this dataset?"
   ]
  },
  {
   "cell_type": "code",
   "execution_count": 82,
   "metadata": {},
   "outputs": [
    {
     "name": "stdout",
     "output_type": "stream",
     "text": [
      "Chi-squared: 0.0\n",
      "P-value: 1.0\n"
     ]
    }
   ],
   "source": [
    "contingency_table = pd.crosstab(df['sex'], df['DEATH_EVENT'])\n",
    "\n",
    "# Perform chi-squared test\n",
    "chi2, p, _, _ = chi2_contingency(contingency_table)\n",
    "\n",
    "\n",
    "print(f\"Chi-squared: {chi2}\")\n",
    "print(f\"P-value: {p}\")\n"
   ]
  },
  {
   "cell_type": "code",
   "execution_count": null,
   "metadata": {},
   "outputs": [],
   "source": []
  },
  {
   "cell_type": "markdown",
   "metadata": {},
   "source": [
    "### The chi-squared test results in a statistic of 0.0 and a p-value of 1.0. In hypothesis testing, a p-value of 1.0 suggests that there is no significant difference between the observed and expected frequencies, and you fail to reject the null hypothesis.\n",
    "\n",
    "### In the gender-based mortality rates, this result indicates that there is no significant difference in the distribution of death events between genders in your dataset."
   ]
  },
  {
   "cell_type": "code",
   "execution_count": null,
   "metadata": {},
   "outputs": [],
   "source": []
  },
  {
   "cell_type": "markdown",
   "metadata": {},
   "source": [
    "## How does smoking status contribute to mortality risk in this population?"
   ]
  },
  {
   "cell_type": "code",
   "execution_count": 83,
   "metadata": {},
   "outputs": [
    {
     "name": "stdout",
     "output_type": "stream",
     "text": [
      "correlation between Smoking and Death_event is: -0.012623152709359643\n"
     ]
    }
   ],
   "source": [
    "age_corr=df[\"smoking\"].corr(df[\"DEATH_EVENT\"])\n",
    "print(\"correlation between Smoking and Death_event is:\",age_corr)"
   ]
  },
  {
   "cell_type": "markdown",
   "metadata": {},
   "source": [
    "### The correlation between Smoking and Death Event is approximately -0.0126. This indicates a very weak negative correlation between smoking and the occurrence of death events in the dataset. The value is close to zero, suggesting that there is little to no linear relationship between smoking and death events based on the correlation coefficient."
   ]
  },
  {
   "cell_type": "code",
   "execution_count": 84,
   "metadata": {},
   "outputs": [
    {
     "name": "stdout",
     "output_type": "stream",
     "text": [
      "Chi-squared: 0.007331473567119502\n",
      "P-value: 0.9317652998235507\n"
     ]
    }
   ],
   "source": [
    "contingency_table = pd.crosstab(df['smoking'], df['DEATH_EVENT'])\n",
    "\n",
    "# Perform chi-squared test\n",
    "chi2, p, _, _ = chi2_contingency(contingency_table)\n",
    "print(f\"Chi-squared: {chi2}\")\n",
    "print(f\"P-value: {p}\")"
   ]
  },
  {
   "cell_type": "markdown",
   "metadata": {},
   "source": [
    "\n",
    "### Chi-squared: 0.007331473567119502\n",
    "### P-value: 0.9317652998235507\n",
    "\n",
    "### The p-value of 0.9318 is greater than the conventional significance level of 0.05. Therefore, we fail to reject the null hypothesis, indicating that there is no significant association between smoking status and death events in this dataset. In other words, there is no evidence to suggest that smoking status contributes to mortality risk in this population based on the available data."
   ]
  },
  {
   "cell_type": "code",
   "execution_count": null,
   "metadata": {},
   "outputs": [],
   "source": []
  },
  {
   "cell_type": "markdown",
   "metadata": {},
   "source": [
    "## Is there a statistically significant difference in the occurrence of death events between diabetic and non-diabetic individuals in the dataset?"
   ]
  },
  {
   "cell_type": "code",
   "execution_count": 85,
   "metadata": {},
   "outputs": [
    {
     "name": "stdout",
     "output_type": "stream",
     "text": [
      "correlation between diabetes and Death_event is: -0.001942883344203445\n"
     ]
    }
   ],
   "source": [
    "age_corr=df[\"diabetes\"].corr(df[\"DEATH_EVENT\"])\n",
    "print(\"correlation between diabetes and Death_event is:\",age_corr)"
   ]
  },
  {
   "cell_type": "markdown",
   "metadata": {},
   "source": [
    "### The correlation between Diabetes and Death Event is approximately -0.00194. This indicates a very weak negative correlation between diabetes and the occurrence of death events in the dataset. The value is close to zero, suggesting that there is little to no linear relationship between diabetes and death events based on the correlation coefficient."
   ]
  },
  {
   "cell_type": "code",
   "execution_count": 86,
   "metadata": {},
   "outputs": [
    {
     "name": "stdout",
     "output_type": "stream",
     "text": [
      "Chi-squared: 0.0\n",
      "P-value: 1.0\n"
     ]
    }
   ],
   "source": [
    "contingency_table = pd.crosstab(df['diabetes'], df['DEATH_EVENT'])\n",
    "\n",
    "# Perform chi-squared test\n",
    "chi2, p, _, _ = chi2_contingency(contingency_table)\n",
    "\n",
    "print(f\"Chi-squared: {chi2}\")\n",
    "print(f\"P-value: {p}\")"
   ]
  },
  {
   "cell_type": "markdown",
   "metadata": {},
   "source": [
    "The chi-squared test between diabetes and Death Event results in a chi-squared statistic of 0.0 and a p-value of 1.0. \n",
    "\n",
    "This indicates that there is no significant association between diabetes status and the occurrence of death events in the dataset, as the p-value is greater than the typical significance level of 0.05. The null hypothesis, which assumes independence between diabetes and death events, cannot be rejected based on this test."
   ]
  },
  {
   "cell_type": "code",
   "execution_count": null,
   "metadata": {},
   "outputs": [],
   "source": []
  },
  {
   "cell_type": "markdown",
   "metadata": {},
   "source": [
    "### What are the most significant risk factors associated with death events in this dataset?\n"
   ]
  },
  {
   "cell_type": "code",
   "execution_count": 87,
   "metadata": {},
   "outputs": [
    {
     "name": "stdout",
     "output_type": "stream",
     "text": [
      "DEATH_EVENT    1.000000\n",
      "SC             0.294278\n",
      "age            0.253729\n",
      "HBP            0.079351\n",
      "anaemia        0.066270\n",
      "CPK            0.062728\n",
      "diabetes      -0.001943\n",
      "sex           -0.004316\n",
      "smoking       -0.012623\n",
      "platelets     -0.049139\n",
      "SS            -0.195204\n",
      "EF            -0.268603\n",
      "time          -0.526964\n",
      "Name: DEATH_EVENT, dtype: float64\n"
     ]
    }
   ],
   "source": [
    "correlation_matrix = df.corr()\n",
    "death_event_correlation = correlation_matrix['DEATH_EVENT'].sort_values(ascending=False)\n",
    "print(death_event_correlation)"
   ]
  },
  {
   "cell_type": "code",
   "execution_count": 88,
   "metadata": {},
   "outputs": [],
   "source": [
    "categorical_vars = ['anaemia', 'diabetes', 'HBP', 'smoking', 'sex']\n",
    "chi2_results = {}\n",
    "\n",
    "for var in df.columns:\n",
    "    if var in categorical_vars:\n",
    "        contingency_table = pd.crosstab(df[var], df['DEATH_EVENT'])\n",
    "        chi2, p, _, _ = chi2_contingency(contingency_table)\n",
    "        chi2_results[var] = {'chi2': chi2, 'p-value': p}\n"
   ]
  },
  {
   "cell_type": "code",
   "execution_count": 89,
   "metadata": {},
   "outputs": [
    {
     "data": {
      "text/plain": [
       "{'anaemia': {'chi2': 1.042175485287005, 'p-value': 0.3073160508415107},\n",
       " 'diabetes': {'chi2': 0.0, 'p-value': 1.0},\n",
       " 'HBP': {'chi2': 1.5434607612967581, 'p-value': 0.21410341199416902},\n",
       " 'sex': {'chi2': 0.0, 'p-value': 1.0},\n",
       " 'smoking': {'chi2': 0.007331473567119502, 'p-value': 0.9317652998235507}}"
      ]
     },
     "execution_count": 89,
     "metadata": {},
     "output_type": "execute_result"
    }
   ],
   "source": [
    "chi2_results"
   ]
  },
  {
   "cell_type": "markdown",
   "metadata": {},
   "source": [
    "\n",
    "**Correlation Analysis:**\n",
    "1. **Serum Creatinine (SC):** Positive correlation (0.294278) - Higher serum creatinine levels are associated with a higher likelihood of death events.\n",
    "2. **Age:** Positive correlation (0.253729) - Older age is associated with a higher likelihood of death events.\n",
    "3. **High Blood Pressure (HBP):** Positive correlation (0.079351) - Presence of high blood pressure is associated with a higher likelihood of death events.\n",
    "4. **Anaemia:** Positive correlation (0.066270) - Presence of anemia is associated with a higher likelihood of death events.\n",
    "5. **CPK (Creatinine Phosphokinase):** Positive correlation (0.062728) - Higher CPK levels are associated with a higher likelihood of death events.\n",
    "\n",
    "**Chi-squared Test for Categorical Variables:**\n",
    "1. **Anaemia:** Chi-squared: 1.042, p-value: 0.307 - The association between anaemia and death events is not statistically significant.\n",
    "2. **Diabetes:** Chi-squared: 0.0, p-value: 1.0 - There is no statistically significant association between diabetes and death events.\n",
    "3. **High Blood Pressure (HBP):** Chi-squared: 1.543, p-value: 0.214 - The association between high blood pressure and death events is not statistically significant.\n",
    "4. **Sex:** Chi-squared: 0.0, p-value: 1.0 - There is no statistically significant association between sex and death events.\n",
    "5. **Smoking:** Chi-squared: 0.007, p-value: 0.932 - The association between smoking and death events is not statistically significant.\n",
    "\n",
    "\n"
   ]
  },
  {
   "cell_type": "code",
   "execution_count": null,
   "metadata": {},
   "outputs": [],
   "source": []
  },
  {
   "cell_type": "markdown",
   "metadata": {},
   "source": [
    "### Can we build a predictive model to estimate the likelihood of death events based on the provided features?"
   ]
  },
  {
   "cell_type": "code",
   "execution_count": 90,
   "metadata": {},
   "outputs": [],
   "source": [
    "from sklearn.model_selection import train_test_split\n",
    "from sklearn.model_selection import GridSearchCV\n",
    "from sklearn.naive_bayes import GaussianNB\n",
    "from sklearn.metrics import accuracy_score, classification_report\n",
    "from sklearn.preprocessing import StandardScaler\n",
    "import numpy as np"
   ]
  },
  {
   "cell_type": "code",
   "execution_count": 91,
   "metadata": {},
   "outputs": [
    {
     "data": {
      "text/html": [
       "<style>#sk-container-id-2 {color: black;}#sk-container-id-2 pre{padding: 0;}#sk-container-id-2 div.sk-toggleable {background-color: white;}#sk-container-id-2 label.sk-toggleable__label {cursor: pointer;display: block;width: 100%;margin-bottom: 0;padding: 0.3em;box-sizing: border-box;text-align: center;}#sk-container-id-2 label.sk-toggleable__label-arrow:before {content: \"▸\";float: left;margin-right: 0.25em;color: #696969;}#sk-container-id-2 label.sk-toggleable__label-arrow:hover:before {color: black;}#sk-container-id-2 div.sk-estimator:hover label.sk-toggleable__label-arrow:before {color: black;}#sk-container-id-2 div.sk-toggleable__content {max-height: 0;max-width: 0;overflow: hidden;text-align: left;background-color: #f0f8ff;}#sk-container-id-2 div.sk-toggleable__content pre {margin: 0.2em;color: black;border-radius: 0.25em;background-color: #f0f8ff;}#sk-container-id-2 input.sk-toggleable__control:checked~div.sk-toggleable__content {max-height: 200px;max-width: 100%;overflow: auto;}#sk-container-id-2 input.sk-toggleable__control:checked~label.sk-toggleable__label-arrow:before {content: \"▾\";}#sk-container-id-2 div.sk-estimator input.sk-toggleable__control:checked~label.sk-toggleable__label {background-color: #d4ebff;}#sk-container-id-2 div.sk-label input.sk-toggleable__control:checked~label.sk-toggleable__label {background-color: #d4ebff;}#sk-container-id-2 input.sk-hidden--visually {border: 0;clip: rect(1px 1px 1px 1px);clip: rect(1px, 1px, 1px, 1px);height: 1px;margin: -1px;overflow: hidden;padding: 0;position: absolute;width: 1px;}#sk-container-id-2 div.sk-estimator {font-family: monospace;background-color: #f0f8ff;border: 1px dotted black;border-radius: 0.25em;box-sizing: border-box;margin-bottom: 0.5em;}#sk-container-id-2 div.sk-estimator:hover {background-color: #d4ebff;}#sk-container-id-2 div.sk-parallel-item::after {content: \"\";width: 100%;border-bottom: 1px solid gray;flex-grow: 1;}#sk-container-id-2 div.sk-label:hover label.sk-toggleable__label {background-color: #d4ebff;}#sk-container-id-2 div.sk-serial::before {content: \"\";position: absolute;border-left: 1px solid gray;box-sizing: border-box;top: 0;bottom: 0;left: 50%;z-index: 0;}#sk-container-id-2 div.sk-serial {display: flex;flex-direction: column;align-items: center;background-color: white;padding-right: 0.2em;padding-left: 0.2em;position: relative;}#sk-container-id-2 div.sk-item {position: relative;z-index: 1;}#sk-container-id-2 div.sk-parallel {display: flex;align-items: stretch;justify-content: center;background-color: white;position: relative;}#sk-container-id-2 div.sk-item::before, #sk-container-id-2 div.sk-parallel-item::before {content: \"\";position: absolute;border-left: 1px solid gray;box-sizing: border-box;top: 0;bottom: 0;left: 50%;z-index: -1;}#sk-container-id-2 div.sk-parallel-item {display: flex;flex-direction: column;z-index: 1;position: relative;background-color: white;}#sk-container-id-2 div.sk-parallel-item:first-child::after {align-self: flex-end;width: 50%;}#sk-container-id-2 div.sk-parallel-item:last-child::after {align-self: flex-start;width: 50%;}#sk-container-id-2 div.sk-parallel-item:only-child::after {width: 0;}#sk-container-id-2 div.sk-dashed-wrapped {border: 1px dashed gray;margin: 0 0.4em 0.5em 0.4em;box-sizing: border-box;padding-bottom: 0.4em;background-color: white;}#sk-container-id-2 div.sk-label label {font-family: monospace;font-weight: bold;display: inline-block;line-height: 1.2em;}#sk-container-id-2 div.sk-label-container {text-align: center;}#sk-container-id-2 div.sk-container {/* jupyter's `normalize.less` sets `[hidden] { display: none; }` but bootstrap.min.css set `[hidden] { display: none !important; }` so we also need the `!important` here to be able to override the default hidden behavior on the sphinx rendered scikit-learn.org. See: https://github.com/scikit-learn/scikit-learn/issues/21755 */display: inline-block !important;position: relative;}#sk-container-id-2 div.sk-text-repr-fallback {display: none;}</style><div id=\"sk-container-id-2\" class=\"sk-top-container\"><div class=\"sk-text-repr-fallback\"><pre>GridSearchCV(cv=10, estimator=GaussianNB(),\n",
       "             param_grid={&#x27;priors&#x27;: [None, [0.5, 0.5], [0.3, 0.7], [0.7, 0.3]],\n",
       "                         &#x27;var_smoothing&#x27;: [1e-09, 1e-08, 1e-07, 1e-06, 1e-05]},\n",
       "             scoring=&#x27;accuracy&#x27;)</pre><b>In a Jupyter environment, please rerun this cell to show the HTML representation or trust the notebook. <br />On GitHub, the HTML representation is unable to render, please try loading this page with nbviewer.org.</b></div><div class=\"sk-container\" hidden><div class=\"sk-item sk-dashed-wrapped\"><div class=\"sk-label-container\"><div class=\"sk-label sk-toggleable\"><input class=\"sk-toggleable__control sk-hidden--visually\" id=\"sk-estimator-id-4\" type=\"checkbox\" ><label for=\"sk-estimator-id-4\" class=\"sk-toggleable__label sk-toggleable__label-arrow\">GridSearchCV</label><div class=\"sk-toggleable__content\"><pre>GridSearchCV(cv=10, estimator=GaussianNB(),\n",
       "             param_grid={&#x27;priors&#x27;: [None, [0.5, 0.5], [0.3, 0.7], [0.7, 0.3]],\n",
       "                         &#x27;var_smoothing&#x27;: [1e-09, 1e-08, 1e-07, 1e-06, 1e-05]},\n",
       "             scoring=&#x27;accuracy&#x27;)</pre></div></div></div><div class=\"sk-parallel\"><div class=\"sk-parallel-item\"><div class=\"sk-item\"><div class=\"sk-label-container\"><div class=\"sk-label sk-toggleable\"><input class=\"sk-toggleable__control sk-hidden--visually\" id=\"sk-estimator-id-5\" type=\"checkbox\" ><label for=\"sk-estimator-id-5\" class=\"sk-toggleable__label sk-toggleable__label-arrow\">estimator: GaussianNB</label><div class=\"sk-toggleable__content\"><pre>GaussianNB()</pre></div></div></div><div class=\"sk-serial\"><div class=\"sk-item\"><div class=\"sk-estimator sk-toggleable\"><input class=\"sk-toggleable__control sk-hidden--visually\" id=\"sk-estimator-id-6\" type=\"checkbox\" ><label for=\"sk-estimator-id-6\" class=\"sk-toggleable__label sk-toggleable__label-arrow\">GaussianNB</label><div class=\"sk-toggleable__content\"><pre>GaussianNB()</pre></div></div></div></div></div></div></div></div></div></div>"
      ],
      "text/plain": [
       "GridSearchCV(cv=10, estimator=GaussianNB(),\n",
       "             param_grid={'priors': [None, [0.5, 0.5], [0.3, 0.7], [0.7, 0.3]],\n",
       "                         'var_smoothing': [1e-09, 1e-08, 1e-07, 1e-06, 1e-05]},\n",
       "             scoring='accuracy')"
      ]
     },
     "execution_count": 91,
     "metadata": {},
     "output_type": "execute_result"
    }
   ],
   "source": [
    "X=df.drop(columns=[\"DEATH_EVENT\"],axis=1)\n",
    "y=df[\"DEATH_EVENT\"]\n",
    "scaler = StandardScaler()\n",
    "\n",
    "X_train, X_test, y_train, y_test = train_test_split(X, y, test_size=0.2, random_state=42)\n",
    "\n",
    "model = GaussianNB()\n",
    "\n",
    "param_grid = {\n",
    "    'priors': [None, [0.5, 0.5], [0.3, 0.7], [0.7, 0.3]],  \n",
    "    'var_smoothing': [1e-9, 1e-8, 1e-7, 1e-6, 1e-5] \n",
    "}\n",
    "\n",
    "grid_search = GridSearchCV(model, param_grid, cv=10, scoring='accuracy')\n",
    "\n",
    "\n",
    "grid_search.fit(X_train, y_train)\n"
   ]
  },
  {
   "cell_type": "code",
   "execution_count": 92,
   "metadata": {},
   "outputs": [
    {
     "name": "stdout",
     "output_type": "stream",
     "text": [
      "Accuracy:  0.8333333333333334\n",
      "              precision    recall  f1-score   support\n",
      "\n",
      "           0       0.80      0.94      0.87        35\n",
      "           1       0.89      0.68      0.77        25\n",
      "\n",
      "    accuracy                           0.83        60\n",
      "   macro avg       0.85      0.81      0.82        60\n",
      "weighted avg       0.84      0.83      0.83        60\n",
      "\n"
     ]
    }
   ],
   "source": [
    "\n",
    "best_model = grid_search.best_estimator_\n",
    "y_pred = best_model.predict(X_test)\n",
    "test_accuracy = accuracy_score(y_test, y_pred)\n",
    "print(\"Accuracy: \", test_accuracy)\n",
    "print(classification_report(y_test, y_pred))\n"
   ]
  },
  {
   "cell_type": "markdown",
   "metadata": {},
   "source": [
    "\n",
    "### Model Performance Summary:\n",
    "\n",
    "- **Accuracy:** 0.83 (83.33%)\n",
    "  - The overall correctness of the model, indicating that it correctly predicts the class for approximately 83.33% of instances in the test set.\n",
    "\n",
    "### Precision, Recall, and F1-Score:\n",
    "\n",
    "- **Class 0 (Negative Class):**\n",
    "  - Precision: 0.80\n",
    "    - Out of all instances predicted as class 0, 80% were correct.\n",
    "  - Recall (Sensitivity): 0.94\n",
    "    - Out of all actual class 0 instances, the model correctly identified 94%.\n",
    "  - F1-Score: 0.87\n",
    "    - The harmonic mean of precision and recall for class 0.\n",
    "\n",
    "- **Class 1 (Positive Class):**\n",
    "  - Precision: 0.89\n",
    "    - Out of all instances predicted as class 1, 89% were correct.\n",
    "  - Recall (Sensitivity): 0.68\n",
    "    - Out of all actual class 1 instances, the model correctly identified 68%.\n",
    "  - F1-Score: 0.77\n",
    "    - The harmonic mean of precision and recall for class 1.\n",
    "\n",
    "### Weighted and Macro Averages:\n",
    "\n",
    "- **Weighted Average:**\n",
    "  - Precision: 0.84\n",
    "  - Recall: 0.83\n",
    "  - F1-Score: 0.83\n",
    "  - Weighted by the number of true instances for each class.\n",
    "\n",
    "- **Macro Average:**\n",
    "  - Precision: 0.85\n",
    "  - Recall: 0.81\n",
    "  - F1-Score: 0.82\n",
    "  - Averages across classes without considering class imbalance.\n",
    "\n",
    "### Conclusion:\n",
    "\n",
    "- The model performs well overall, with a good balance of precision and recall for both classes.\n",
    "- Class 0 has high precision and recall, indicating that the model is effective at identifying instances of this class.\n",
    "- Class 1 has a slightly lower recall, suggesting that the model may miss some instances of this class, but when it predicts class 1, it is correct the majority of the time.\n",
    "\n"
   ]
  },
  {
   "cell_type": "markdown",
   "metadata": {},
   "source": [
    "# Prediction System"
   ]
  },
  {
   "cell_type": "code",
   "execution_count": 93,
   "metadata": {},
   "outputs": [
    {
     "name": "stdout",
     "output_type": "stream",
     "text": [
      "Prediction: 1\n"
     ]
    },
    {
     "name": "stderr",
     "output_type": "stream",
     "text": [
      "/home/jamshaid/.local/lib/python3.10/site-packages/sklearn/base.py:465: UserWarning: X does not have valid feature names, but GaussianNB was fitted with feature names\n",
      "  warnings.warn(\n"
     ]
    }
   ],
   "source": [
    "best_model.fit(X_train, y_train)\n",
    "new_sample_data = np.array([75.0,0,582,0,20,1,265000.00,1.9,130,1,0,4])\n",
    "new_sample = new_sample_data.reshape(1, -1)\n",
    "new_prediction = best_model.predict(new_sample)\n",
    "print(\"Prediction:\", new_prediction[0])"
   ]
  },
  {
   "cell_type": "markdown",
   "metadata": {},
   "source": [
    " ### The code trains a model (best_model) on a training dataset, creates a new sample of data, uses the trained model to predict the outcome for the new sample, and prints the predicted result."
   ]
  },
  {
   "cell_type": "code",
   "execution_count": null,
   "metadata": {},
   "outputs": [],
   "source": []
  },
  {
   "cell_type": "markdown",
   "metadata": {},
   "source": [
    "## ABSTRACT\n",
    "This research explores connections between patient characteristics and cardiovascular mortality risks using a Kaggle dataset. Analyzing 12 features, the study predicts heart failure for early detection and management. With 2000+ votes, the dataset is crucial for understanding and mitigating cardiovascular disease risks.\n",
    "\n",
    "The study addresses questions about anemia, diabetes, high blood pressure, and smoking impact on death events. It explores correlations between age, ejection fraction, platelet count, serum creatinine, and mortality risk. Gender differences, smoking influence, and diabetes significance are scrutinized, identifying key risk factors.\n",
    "\n",
    "The dataset has 299 entries and 12 features, facilitating in-depth exploration and predictive modeling for mortality risk. Descriptive statistics provide insights into age, ejection fraction, platelets, serum creatinine, and time. Skewness analysis shows positive skewness for features like `creatinine_phosphokinase` and `serum_creatinine`.\n",
    "\n",
    "Correlation analysis reveals relationships, emphasizing how age, ejection fraction, and serum creatinine correlate with death events. Chi-squared tests for categorical variables provide evidence of their association with death events.\n",
    "\n",
    "A Naive Bayes model estimates death event likelihood based on features, showing good overall performance with balanced precision and recall.\n",
    "\n",
    "In conclusion, this study integrates descriptive analytics, statistical tests, and predictive modeling to understand patient characteristics and cardiovascular mortality. Findings contribute to academic knowledge and have practical implications for healthcare and policy. Insights lay the groundwork for future research in cardiovascular health and mortality risk mitigation."
   ]
  }
 ],
 "metadata": {
  "kernelspec": {
   "display_name": "Python 3",
   "language": "python",
   "name": "python3"
  },
  "language_info": {
   "codemirror_mode": {
    "name": "ipython",
    "version": 3
   },
   "file_extension": ".py",
   "mimetype": "text/x-python",
   "name": "python",
   "nbconvert_exporter": "python",
   "pygments_lexer": "ipython3",
   "version": "3.10.12"
  }
 },
 "nbformat": 4,
 "nbformat_minor": 2
}
